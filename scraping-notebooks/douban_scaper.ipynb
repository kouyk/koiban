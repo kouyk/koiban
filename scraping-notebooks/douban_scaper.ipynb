{
 "cells": [
  {
   "cell_type": "code",
   "execution_count": 3,
   "metadata": {
    "ExecuteTime": {
     "end_time": "2020-09-08T09:02:25.810961Z",
     "start_time": "2020-09-08T09:02:25.716391Z"
    }
   },
   "outputs": [],
   "source": [
    "import time\n",
    "import pickle\n",
    "import random\n",
    "\n",
    "from selenium import webdriver\n",
    "# from selenium.webdriver.common.by import By\n",
    "from selenium.webdriver.support.ui import WebDriverWait\n",
    "# from selenium.webdriver.support import expected_conditions as EC\n",
    "from selenium.common.exceptions import NoSuchElementException, ElementNotInteractableException, ElementClickInterceptedException\n",
    "from selenium.webdriver.firefox.options import Options\n",
    "from tqdm.auto import tqdm, trange\n",
    "from fake_useragent import UserAgent"
   ]
  },
  {
   "cell_type": "code",
   "execution_count": 26,
   "metadata": {
    "ExecuteTime": {
     "end_time": "2020-09-08T09:25:28.907786Z",
     "start_time": "2020-09-08T09:25:26.128373Z"
    }
   },
   "outputs": [],
   "source": [
    "# fp = webdriver.FirefoxProfile()\n",
    "# options = Options()\n",
    "# options.headless = True\n",
    "# fp.set_preference(\"network.cookie.cookieBehavior\", 2)\n",
    "    \n",
    "# crawl_interval = 10.0\n",
    "# driver = webdriver.Firefox(firefox_profile=fp)\n",
    "driver = webdriver.Firefox()\n",
    "driver.implicitly_wait(15)"
   ]
  },
  {
   "cell_type": "code",
   "execution_count": 29,
   "metadata": {
    "ExecuteTime": {
     "end_time": "2020-09-08T02:29:31.287345Z",
     "start_time": "2020-09-08T02:28:17.798091Z"
    }
   },
   "outputs": [],
   "source": [
    "# drivers = []\n",
    "for i in range(30):\n",
    "    fp.set_preference(\"general.useragent.override\", UserAgent().random)\n",
    "    fp.update_preferences()\n",
    "    driver = webdriver.Firefox(firefox_profile=fp, options=options)\n",
    "    driver.implicitly_wait(30)\n",
    "    drivers.append(driver)"
   ]
  },
  {
   "cell_type": "code",
   "execution_count": 279,
   "metadata": {
    "ExecuteTime": {
     "end_time": "2020-09-07T16:41:48.368488Z",
     "start_time": "2020-09-07T16:41:44.380623Z"
    }
   },
   "outputs": [],
   "source": [
    "driver.get(\"https://movie.douban.com/tag/#/?sort=U&range=0,10&tags=%E5%8A%A8%E7%94%BB,%E7%94%B5%E5%BD%B1\")"
   ]
  },
  {
   "cell_type": "code",
   "execution_count": 280,
   "metadata": {
    "ExecuteTime": {
     "end_time": "2020-09-07T16:53:54.952348Z",
     "start_time": "2020-09-07T16:41:56.048951Z"
    }
   },
   "outputs": [
    {
     "data": {
      "application/vnd.jupyter.widget-view+json": {
       "model_id": "e21c45c1036b48a0b5b1ed78fbbf516b",
       "version_major": 2,
       "version_minor": 0
      },
      "text/plain": [
       "HBox(children=(FloatProgress(value=0.0, max=99.0), HTML(value='')))"
      ]
     },
     "metadata": {},
     "output_type": "display_data"
    },
    {
     "name": "stdout",
     "output_type": "stream",
     "text": [
      "\n"
     ]
    }
   ],
   "source": [
    "more_button = driver.find_element_by_class_name(\"more\")\n",
    "for i in trange(99):\n",
    "    more_button.click()\n",
    "    driver.execute_script(\"arguments[0].scrollIntoView();\", more_button)\n",
    "    time.sleep(7)"
   ]
  },
  {
   "cell_type": "code",
   "execution_count": 281,
   "metadata": {
    "ExecuteTime": {
     "end_time": "2020-09-07T16:54:53.310620Z",
     "start_time": "2020-09-07T16:54:50.730246Z"
    }
   },
   "outputs": [
    {
     "data": {
      "text/plain": [
       "2000"
      ]
     },
     "execution_count": 281,
     "metadata": {},
     "output_type": "execute_result"
    }
   ],
   "source": [
    "items = driver.find_elements_by_class_name(\"item\")\n",
    "len(items)"
   ]
  },
  {
   "cell_type": "code",
   "execution_count": 282,
   "metadata": {
    "ExecuteTime": {
     "end_time": "2020-09-07T16:58:26.344652Z",
     "start_time": "2020-09-07T16:56:16.014502Z"
    }
   },
   "outputs": [
    {
     "data": {
      "application/vnd.jupyter.widget-view+json": {
       "model_id": "85efe6f6e92641aba44848d6412827a0",
       "version_major": 2,
       "version_minor": 0
      },
      "text/plain": [
       "HBox(children=(FloatProgress(value=0.0, max=2000.0), HTML(value='')))"
      ]
     },
     "metadata": {},
     "output_type": "display_data"
    },
    {
     "name": "stdout",
     "output_type": "stream",
     "text": [
      "\n"
     ]
    }
   ],
   "source": [
    "animated_file_listing = []\n",
    "for item in tqdm(items):\n",
    "    animated_file_listing.append({'title': item.find_element_by_class_name(\"title\").text,\n",
    "                                  'page_link': item.get_attribute(\"href\"),\n",
    "                                  'rating': item.find_element_by_class_name(\"rate\").text,\n",
    "                                  'cover': item.find_element_by_tag_name(\"img\").get_attribute(\"src\")})"
   ]
  },
  {
   "cell_type": "code",
   "execution_count": 7,
   "metadata": {
    "ExecuteTime": {
     "end_time": "2020-09-08T01:22:10.340697Z",
     "start_time": "2020-09-08T01:22:10.328458Z"
    }
   },
   "outputs": [],
   "source": [
    "with open(\"animated_film_listing.pickle\", \"rb\") as file:\n",
    "    animated_film_listing = pickle.load(file)"
   ]
  },
  {
   "cell_type": "code",
   "execution_count": 34,
   "metadata": {
    "ExecuteTime": {
     "end_time": "2020-09-08T02:31:46.675137Z",
     "start_time": "2020-09-08T02:31:14.702693Z"
    }
   },
   "outputs": [
    {
     "data": {
      "application/vnd.jupyter.widget-view+json": {
       "model_id": "755cb5c3050a44b58ca0555352edf02a",
       "version_major": 2,
       "version_minor": 0
      },
      "text/plain": [
       "HBox(children=(FloatProgress(value=0.0, max=1874.0), HTML(value='')))"
      ]
     },
     "metadata": {},
     "output_type": "display_data"
    },
    {
     "name": "stdout",
     "output_type": "stream",
     "text": [
      "\n"
     ]
    },
    {
     "ename": "NoSuchElementException",
     "evalue": "Message: Unable to locate element: [id=\"info\"]\n",
     "output_type": "error",
     "traceback": [
      "\u001B[0;31m---------------------------------------------------------------------------\u001B[0m",
      "\u001B[0;31mNoSuchElementException\u001B[0m                    Traceback (most recent call last)",
      "\u001B[0;32m<ipython-input-34-d039719de507>\u001B[0m in \u001B[0;36m<module>\u001B[0;34m\u001B[0m\n\u001B[1;32m      6\u001B[0m \u001B[0;34m\u001B[0m\u001B[0m\n\u001B[1;32m      7\u001B[0m     \u001B[0;31m# fetch all info in plain text\u001B[0m\u001B[0;34m\u001B[0m\u001B[0;34m\u001B[0m\u001B[0;34m\u001B[0m\u001B[0m\n\u001B[0;32m----> 8\u001B[0;31m     \u001B[0mfilm_info\u001B[0m \u001B[0;34m=\u001B[0m \u001B[0mdriver\u001B[0m\u001B[0;34m.\u001B[0m\u001B[0mfind_element_by_id\u001B[0m\u001B[0;34m(\u001B[0m\u001B[0;34m\"info\"\u001B[0m\u001B[0;34m)\u001B[0m\u001B[0;34m\u001B[0m\u001B[0;34m\u001B[0m\u001B[0m\n\u001B[0m\u001B[1;32m      9\u001B[0m     \u001B[0minfo_dict\u001B[0m \u001B[0;34m=\u001B[0m \u001B[0mdict\u001B[0m\u001B[0;34m(\u001B[0m\u001B[0;34m[\u001B[0m\u001B[0mline\u001B[0m\u001B[0;34m.\u001B[0m\u001B[0msplit\u001B[0m\u001B[0;34m(\u001B[0m\u001B[0;34m\": \"\u001B[0m\u001B[0;34m,\u001B[0m \u001B[0;36m1\u001B[0m\u001B[0;34m)\u001B[0m \u001B[0;32mfor\u001B[0m \u001B[0mline\u001B[0m \u001B[0;32min\u001B[0m \u001B[0mfilm_info\u001B[0m\u001B[0;34m.\u001B[0m\u001B[0mtext\u001B[0m\u001B[0;34m.\u001B[0m\u001B[0msplit\u001B[0m\u001B[0;34m(\u001B[0m\u001B[0;34m\"\\n\"\u001B[0m\u001B[0;34m)\u001B[0m\u001B[0;34m]\u001B[0m\u001B[0;34m)\u001B[0m\u001B[0;34m\u001B[0m\u001B[0;34m\u001B[0m\u001B[0m\n\u001B[1;32m     10\u001B[0m     \u001B[0mfilm\u001B[0m\u001B[0;34m.\u001B[0m\u001B[0mupdate\u001B[0m\u001B[0;34m(\u001B[0m\u001B[0minfo_dict\u001B[0m\u001B[0;34m)\u001B[0m\u001B[0;34m\u001B[0m\u001B[0;34m\u001B[0m\u001B[0m\n",
      "\u001B[0;32m~/.virtualenvs/douban-crawler/lib/python3.8/site-packages/selenium/webdriver/remote/webdriver.py\u001B[0m in \u001B[0;36mfind_element_by_id\u001B[0;34m(self, id_)\u001B[0m\n\u001B[1;32m    358\u001B[0m             \u001B[0melement\u001B[0m \u001B[0;34m=\u001B[0m \u001B[0mdriver\u001B[0m\u001B[0;34m.\u001B[0m\u001B[0mfind_element_by_id\u001B[0m\u001B[0;34m(\u001B[0m\u001B[0;34m'foo'\u001B[0m\u001B[0;34m)\u001B[0m\u001B[0;34m\u001B[0m\u001B[0;34m\u001B[0m\u001B[0m\n\u001B[1;32m    359\u001B[0m         \"\"\"\n\u001B[0;32m--> 360\u001B[0;31m         \u001B[0;32mreturn\u001B[0m \u001B[0mself\u001B[0m\u001B[0;34m.\u001B[0m\u001B[0mfind_element\u001B[0m\u001B[0;34m(\u001B[0m\u001B[0mby\u001B[0m\u001B[0;34m=\u001B[0m\u001B[0mBy\u001B[0m\u001B[0;34m.\u001B[0m\u001B[0mID\u001B[0m\u001B[0;34m,\u001B[0m \u001B[0mvalue\u001B[0m\u001B[0;34m=\u001B[0m\u001B[0mid_\u001B[0m\u001B[0;34m)\u001B[0m\u001B[0;34m\u001B[0m\u001B[0;34m\u001B[0m\u001B[0m\n\u001B[0m\u001B[1;32m    361\u001B[0m \u001B[0;34m\u001B[0m\u001B[0m\n\u001B[1;32m    362\u001B[0m     \u001B[0;32mdef\u001B[0m \u001B[0mfind_elements_by_id\u001B[0m\u001B[0;34m(\u001B[0m\u001B[0mself\u001B[0m\u001B[0;34m,\u001B[0m \u001B[0mid_\u001B[0m\u001B[0;34m)\u001B[0m\u001B[0;34m:\u001B[0m\u001B[0;34m\u001B[0m\u001B[0;34m\u001B[0m\u001B[0m\n",
      "\u001B[0;32m~/.virtualenvs/douban-crawler/lib/python3.8/site-packages/selenium/webdriver/remote/webdriver.py\u001B[0m in \u001B[0;36mfind_element\u001B[0;34m(self, by, value)\u001B[0m\n\u001B[1;32m    974\u001B[0m                 \u001B[0mby\u001B[0m \u001B[0;34m=\u001B[0m \u001B[0mBy\u001B[0m\u001B[0;34m.\u001B[0m\u001B[0mCSS_SELECTOR\u001B[0m\u001B[0;34m\u001B[0m\u001B[0;34m\u001B[0m\u001B[0m\n\u001B[1;32m    975\u001B[0m                 \u001B[0mvalue\u001B[0m \u001B[0;34m=\u001B[0m \u001B[0;34m'[name=\"%s\"]'\u001B[0m \u001B[0;34m%\u001B[0m \u001B[0mvalue\u001B[0m\u001B[0;34m\u001B[0m\u001B[0;34m\u001B[0m\u001B[0m\n\u001B[0;32m--> 976\u001B[0;31m         return self.execute(Command.FIND_ELEMENT, {\n\u001B[0m\u001B[1;32m    977\u001B[0m             \u001B[0;34m'using'\u001B[0m\u001B[0;34m:\u001B[0m \u001B[0mby\u001B[0m\u001B[0;34m,\u001B[0m\u001B[0;34m\u001B[0m\u001B[0;34m\u001B[0m\u001B[0m\n\u001B[1;32m    978\u001B[0m             'value': value})['value']\n",
      "\u001B[0;32m~/.virtualenvs/douban-crawler/lib/python3.8/site-packages/selenium/webdriver/remote/webdriver.py\u001B[0m in \u001B[0;36mexecute\u001B[0;34m(self, driver_command, params)\u001B[0m\n\u001B[1;32m    319\u001B[0m         \u001B[0mresponse\u001B[0m \u001B[0;34m=\u001B[0m \u001B[0mself\u001B[0m\u001B[0;34m.\u001B[0m\u001B[0mcommand_executor\u001B[0m\u001B[0;34m.\u001B[0m\u001B[0mexecute\u001B[0m\u001B[0;34m(\u001B[0m\u001B[0mdriver_command\u001B[0m\u001B[0;34m,\u001B[0m \u001B[0mparams\u001B[0m\u001B[0;34m)\u001B[0m\u001B[0;34m\u001B[0m\u001B[0;34m\u001B[0m\u001B[0m\n\u001B[1;32m    320\u001B[0m         \u001B[0;32mif\u001B[0m \u001B[0mresponse\u001B[0m\u001B[0;34m:\u001B[0m\u001B[0;34m\u001B[0m\u001B[0;34m\u001B[0m\u001B[0m\n\u001B[0;32m--> 321\u001B[0;31m             \u001B[0mself\u001B[0m\u001B[0;34m.\u001B[0m\u001B[0merror_handler\u001B[0m\u001B[0;34m.\u001B[0m\u001B[0mcheck_response\u001B[0m\u001B[0;34m(\u001B[0m\u001B[0mresponse\u001B[0m\u001B[0;34m)\u001B[0m\u001B[0;34m\u001B[0m\u001B[0;34m\u001B[0m\u001B[0m\n\u001B[0m\u001B[1;32m    322\u001B[0m             response['value'] = self._unwrap_value(\n\u001B[1;32m    323\u001B[0m                 response.get('value', None))\n",
      "\u001B[0;32m~/.virtualenvs/douban-crawler/lib/python3.8/site-packages/selenium/webdriver/remote/errorhandler.py\u001B[0m in \u001B[0;36mcheck_response\u001B[0;34m(self, response)\u001B[0m\n\u001B[1;32m    240\u001B[0m                 \u001B[0malert_text\u001B[0m \u001B[0;34m=\u001B[0m \u001B[0mvalue\u001B[0m\u001B[0;34m[\u001B[0m\u001B[0;34m'alert'\u001B[0m\u001B[0;34m]\u001B[0m\u001B[0;34m.\u001B[0m\u001B[0mget\u001B[0m\u001B[0;34m(\u001B[0m\u001B[0;34m'text'\u001B[0m\u001B[0;34m)\u001B[0m\u001B[0;34m\u001B[0m\u001B[0;34m\u001B[0m\u001B[0m\n\u001B[1;32m    241\u001B[0m             \u001B[0;32mraise\u001B[0m \u001B[0mexception_class\u001B[0m\u001B[0;34m(\u001B[0m\u001B[0mmessage\u001B[0m\u001B[0;34m,\u001B[0m \u001B[0mscreen\u001B[0m\u001B[0;34m,\u001B[0m \u001B[0mstacktrace\u001B[0m\u001B[0;34m,\u001B[0m \u001B[0malert_text\u001B[0m\u001B[0;34m)\u001B[0m\u001B[0;34m\u001B[0m\u001B[0;34m\u001B[0m\u001B[0m\n\u001B[0;32m--> 242\u001B[0;31m         \u001B[0;32mraise\u001B[0m \u001B[0mexception_class\u001B[0m\u001B[0;34m(\u001B[0m\u001B[0mmessage\u001B[0m\u001B[0;34m,\u001B[0m \u001B[0mscreen\u001B[0m\u001B[0;34m,\u001B[0m \u001B[0mstacktrace\u001B[0m\u001B[0;34m)\u001B[0m\u001B[0;34m\u001B[0m\u001B[0;34m\u001B[0m\u001B[0m\n\u001B[0m\u001B[1;32m    243\u001B[0m \u001B[0;34m\u001B[0m\u001B[0m\n\u001B[1;32m    244\u001B[0m     \u001B[0;32mdef\u001B[0m \u001B[0m_value_or_default\u001B[0m\u001B[0;34m(\u001B[0m\u001B[0mself\u001B[0m\u001B[0;34m,\u001B[0m \u001B[0mobj\u001B[0m\u001B[0;34m,\u001B[0m \u001B[0mkey\u001B[0m\u001B[0;34m,\u001B[0m \u001B[0mdefault\u001B[0m\u001B[0;34m)\u001B[0m\u001B[0;34m:\u001B[0m\u001B[0;34m\u001B[0m\u001B[0;34m\u001B[0m\u001B[0m\n",
      "\u001B[0;31mNoSuchElementException\u001B[0m: Message: Unable to locate element: [id=\"info\"]\n"
     ]
    }
   ],
   "source": [
    "for film in tqdm(animated_film_listing[126:]):\n",
    "    driver = random.choice(drivers)\n",
    "    \n",
    "    driver.get(film['page_link'])\n",
    "#     page_load_time = time.time()\n",
    "    \n",
    "    # fetch all info in plain text\n",
    "    film_info = driver.find_element_by_id(\"info\")\n",
    "    info_dict = dict([line.split(\": \", 1) for line in film_info.text.split(\"\\n\")])\n",
    "    film.update(info_dict)\n",
    "    film['全名'] = driver.find_element_by_css_selector(\"span[property='v:itemreviewed']\").text\n",
    "    film['年份'] = driver.find_element_by_class_name(\"year\").text\n",
    "    film['剧情简介'] = driver.find_element_by_css_selector(\"span[property='v:summary']\").text\n",
    "    \n",
    "    \n",
    "    # expand actors list\n",
    "    try:\n",
    "        film_info.find_element_by_class_name(\"more-actor\").click()\n",
    "    except:\n",
    "        pass\n",
    "    \n",
    "    casts = []\n",
    "    for actor in film_info.find_elements_by_css_selector(\"a[rel='v:starring']\")[:10]:\n",
    "        name = actor.text\n",
    "        page_link = actor.get_attribute(\"href\")\n",
    "        casts.append({'name': name, 'page_link': page_link})\n",
    "        \n",
    "    film['主演'] = casts\n",
    "    \n",
    "    reviews = []\n",
    "    for item in driver.find_elements_by_class_name(\"review-item\")[:10]:\n",
    "        review = {}\n",
    "        # expand the current review\n",
    "        expand_button = item.find_element_by_class_name(\"unfold\")\n",
    "        driver.execute_script(\"arguments[0].scrollIntoView();\", expand_button)\n",
    "        try:\n",
    "            expand_button.click()\n",
    "        except ElementClickInterceptedException:\n",
    "            driver.execute_script(\"arguments[0].scrollIntoView();\", expand_button)\n",
    "            expand_button.click()\n",
    "        except ElementNotInteractableException:\n",
    "            continue\n",
    "        \n",
    "#         time.sleep(0.3)\n",
    "        review['id'] = item.get_attribute(\"id\")\n",
    "        review['user'] = item.find_element_by_class_name(\"name\").text\n",
    "        review['time'] = item.find_element_by_class_name(\"main-meta\").text\n",
    "        review['text'] = item.find_element_by_class_name(\"clearfix\").text\n",
    "        reviews.append(review)\n",
    "        \n",
    "    film['影评'] = reviews\n",
    "    driver.delete_all_cookies()\n",
    "#     processing_time = time.time() - page_load_time\n",
    "#     if processing_time < crawl_interval:\n",
    "#         time.sleep(crawl_interval - processing_time)"
   ]
  },
  {
   "cell_type": "code",
   "execution_count": 33,
   "metadata": {
    "ExecuteTime": {
     "end_time": "2020-09-08T02:30:50.038708Z",
     "start_time": "2020-09-08T02:30:50.025235Z"
    }
   },
   "outputs": [
    {
     "data": {
      "text/plain": [
       "[{'title': '名侦探柯南：沉默的十五分钟',\n",
       "  'page_link': 'https://movie.douban.com/subject/6007281/',\n",
       "  'rating': '6.7',\n",
       "  'cover': 'https://img9.doubanio.com/view/photo/s_ratio_poster/public/p981385980.jpg',\n",
       "  '导演': '静野孔文',\n",
       "  '编剧': '古内一成 / 青山刚昌',\n",
       "  '主演': [{'name': '高山南',\n",
       "    'page_link': 'https://movie.douban.com/celebrity/1048421/'},\n",
       "   {'name': '山崎和佳奈',\n",
       "    'page_link': 'https://movie.douban.com/celebrity/1003697/'},\n",
       "   {'name': '小山力也',\n",
       "    'page_link': 'https://movie.douban.com/celebrity/1038087/'},\n",
       "   {'name': '山口胜平',\n",
       "    'page_link': 'https://movie.douban.com/celebrity/1018954/'},\n",
       "   {'name': '草尾毅', 'page_link': 'https://movie.douban.com/celebrity/1042356/'},\n",
       "   {'name': '林原惠美',\n",
       "    'page_link': 'https://movie.douban.com/celebrity/1002915/'},\n",
       "   {'name': '松井菜樱子',\n",
       "    'page_link': 'https://movie.douban.com/celebrity/1003728/'},\n",
       "   {'name': '岩居由希子',\n",
       "    'page_link': 'https://movie.douban.com/celebrity/1015949/'},\n",
       "   {'name': '高木涉', 'page_link': 'https://movie.douban.com/celebrity/1025675/'},\n",
       "   {'name': '大谷育江',\n",
       "    'page_link': 'https://movie.douban.com/celebrity/1025401/'}],\n",
       "  '类型': '动画 / 悬疑',\n",
       "  '官方网站': 'www.conan-movie.jp/index.html',\n",
       "  '制片国家/地区': '日本',\n",
       "  '语言': '日语',\n",
       "  '上映日期': '2011-11-04(中国大陆) / 2011-04-16(日本)',\n",
       "  '片长': '109分钟',\n",
       "  '又名': '名侦探柯南2011：沉默的15分钟 / Detective Conan: Quarter of Silence / 名侦探柯南：沉默的15分钟 / 名侦探柯南：剧场版第15部',\n",
       "  'IMDb链接': 'tt1840372',\n",
       "  '全名': '名侦探柯南：沉默的十五分钟 名探偵コナン 沈黙の15分',\n",
       "  '年份': '(2011)',\n",
       "  '剧情简介': '位于东京的东都线地铁开通当日，一起针对东京都知事朝仓优一郎的炸弹袭击事件爆发，导致东都线列车损毁。经过一番推理，柯南（高山みなみ 配音）等人认定这与8年前朝仓主持负责的北之泽水坝的修建有关。当年为了修建大坝，朝仓动员北之泽村的人民搬入新村，可是仍有许多人反抗到最后阶段。为了探明真相，柯南、灰原（林原めぐみ 配音）、少年侦探团以及毛利小五郎（小山力也 配音）等人开赴白雪皑皑的北之泽。在这片纯净的雪国，少年们尽情玩耍，与此同时他们也遇到了几名原北之泽村的村民，山尾溪介、远野瑞希、立原冬美等人。他们是从小一起长大的好朋友，而彼此之间似乎又有着某种芥蒂和秘密。真相究竟如何……\\n本片为《名侦探柯南》第15部剧场版。'}]"
      ]
     },
     "execution_count": 33,
     "metadata": {},
     "output_type": "execute_result"
    }
   ],
   "source": [
    "animated_film_listing[126:127]"
   ]
  },
  {
   "cell_type": "code",
   "execution_count": null,
   "metadata": {
    "ExecuteTime": {
     "end_time": "2020-09-08T02:21:53.636586Z",
     "start_time": "2020-09-08T02:02:12.210Z"
    }
   },
   "outputs": [],
   "source": [
    "with open(\"animated_film_2000.pickle\", \"wb\") as file:\n",
    "    pickle.dump(animated_film_listing, file)"
   ]
  },
  {
   "cell_type": "code",
   "execution_count": 35,
   "metadata": {
    "ExecuteTime": {
     "end_time": "2020-09-08T03:00:23.379256Z",
     "start_time": "2020-09-08T03:00:23.369567Z"
    },
    "pycharm": {
     "name": "#%%\n"
    }
   },
   "outputs": [
    {
     "ename": "InvalidSessionIdException",
     "evalue": "Message: Tried to run command without establishing a connection\n",
     "output_type": "error",
     "traceback": [
      "\u001B[0;31m---------------------------------------------------------------------------\u001B[0m",
      "\u001B[0;31mInvalidSessionIdException\u001B[0m                 Traceback (most recent call last)",
      "\u001B[0;32m<ipython-input-35-2827eab4caa5>\u001B[0m in \u001B[0;36m<module>\u001B[0;34m\u001B[0m\n\u001B[1;32m      1\u001B[0m \u001B[0;32mfor\u001B[0m \u001B[0mdriver\u001B[0m \u001B[0;32min\u001B[0m \u001B[0mdrivers\u001B[0m\u001B[0;34m:\u001B[0m\u001B[0;34m\u001B[0m\u001B[0;34m\u001B[0m\u001B[0m\n\u001B[0;32m----> 2\u001B[0;31m     \u001B[0mdriver\u001B[0m\u001B[0;34m.\u001B[0m\u001B[0mclose\u001B[0m\u001B[0;34m(\u001B[0m\u001B[0;34m)\u001B[0m\u001B[0;34m\u001B[0m\u001B[0;34m\u001B[0m\u001B[0m\n\u001B[0m",
      "\u001B[0;32m~/.virtualenvs/douban-crawler/lib/python3.8/site-packages/selenium/webdriver/remote/webdriver.py\u001B[0m in \u001B[0;36mclose\u001B[0;34m(self)\u001B[0m\n\u001B[1;32m    686\u001B[0m             \u001B[0mdriver\u001B[0m\u001B[0;34m.\u001B[0m\u001B[0mclose\u001B[0m\u001B[0;34m(\u001B[0m\u001B[0;34m)\u001B[0m\u001B[0;34m\u001B[0m\u001B[0;34m\u001B[0m\u001B[0m\n\u001B[1;32m    687\u001B[0m         \"\"\"\n\u001B[0;32m--> 688\u001B[0;31m         \u001B[0mself\u001B[0m\u001B[0;34m.\u001B[0m\u001B[0mexecute\u001B[0m\u001B[0;34m(\u001B[0m\u001B[0mCommand\u001B[0m\u001B[0;34m.\u001B[0m\u001B[0mCLOSE\u001B[0m\u001B[0;34m)\u001B[0m\u001B[0;34m\u001B[0m\u001B[0;34m\u001B[0m\u001B[0m\n\u001B[0m\u001B[1;32m    689\u001B[0m \u001B[0;34m\u001B[0m\u001B[0m\n\u001B[1;32m    690\u001B[0m     \u001B[0;32mdef\u001B[0m \u001B[0mquit\u001B[0m\u001B[0;34m(\u001B[0m\u001B[0mself\u001B[0m\u001B[0;34m)\u001B[0m\u001B[0;34m:\u001B[0m\u001B[0;34m\u001B[0m\u001B[0;34m\u001B[0m\u001B[0m\n",
      "\u001B[0;32m~/.virtualenvs/douban-crawler/lib/python3.8/site-packages/selenium/webdriver/remote/webdriver.py\u001B[0m in \u001B[0;36mexecute\u001B[0;34m(self, driver_command, params)\u001B[0m\n\u001B[1;32m    319\u001B[0m         \u001B[0mresponse\u001B[0m \u001B[0;34m=\u001B[0m \u001B[0mself\u001B[0m\u001B[0;34m.\u001B[0m\u001B[0mcommand_executor\u001B[0m\u001B[0;34m.\u001B[0m\u001B[0mexecute\u001B[0m\u001B[0;34m(\u001B[0m\u001B[0mdriver_command\u001B[0m\u001B[0;34m,\u001B[0m \u001B[0mparams\u001B[0m\u001B[0;34m)\u001B[0m\u001B[0;34m\u001B[0m\u001B[0;34m\u001B[0m\u001B[0m\n\u001B[1;32m    320\u001B[0m         \u001B[0;32mif\u001B[0m \u001B[0mresponse\u001B[0m\u001B[0;34m:\u001B[0m\u001B[0;34m\u001B[0m\u001B[0;34m\u001B[0m\u001B[0m\n\u001B[0;32m--> 321\u001B[0;31m             \u001B[0mself\u001B[0m\u001B[0;34m.\u001B[0m\u001B[0merror_handler\u001B[0m\u001B[0;34m.\u001B[0m\u001B[0mcheck_response\u001B[0m\u001B[0;34m(\u001B[0m\u001B[0mresponse\u001B[0m\u001B[0;34m)\u001B[0m\u001B[0;34m\u001B[0m\u001B[0;34m\u001B[0m\u001B[0m\n\u001B[0m\u001B[1;32m    322\u001B[0m             response['value'] = self._unwrap_value(\n\u001B[1;32m    323\u001B[0m                 response.get('value', None))\n",
      "\u001B[0;32m~/.virtualenvs/douban-crawler/lib/python3.8/site-packages/selenium/webdriver/remote/errorhandler.py\u001B[0m in \u001B[0;36mcheck_response\u001B[0;34m(self, response)\u001B[0m\n\u001B[1;32m    240\u001B[0m                 \u001B[0malert_text\u001B[0m \u001B[0;34m=\u001B[0m \u001B[0mvalue\u001B[0m\u001B[0;34m[\u001B[0m\u001B[0;34m'alert'\u001B[0m\u001B[0;34m]\u001B[0m\u001B[0;34m.\u001B[0m\u001B[0mget\u001B[0m\u001B[0;34m(\u001B[0m\u001B[0;34m'text'\u001B[0m\u001B[0;34m)\u001B[0m\u001B[0;34m\u001B[0m\u001B[0;34m\u001B[0m\u001B[0m\n\u001B[1;32m    241\u001B[0m             \u001B[0;32mraise\u001B[0m \u001B[0mexception_class\u001B[0m\u001B[0;34m(\u001B[0m\u001B[0mmessage\u001B[0m\u001B[0;34m,\u001B[0m \u001B[0mscreen\u001B[0m\u001B[0;34m,\u001B[0m \u001B[0mstacktrace\u001B[0m\u001B[0;34m,\u001B[0m \u001B[0malert_text\u001B[0m\u001B[0;34m)\u001B[0m\u001B[0;34m\u001B[0m\u001B[0;34m\u001B[0m\u001B[0m\n\u001B[0;32m--> 242\u001B[0;31m         \u001B[0;32mraise\u001B[0m \u001B[0mexception_class\u001B[0m\u001B[0;34m(\u001B[0m\u001B[0mmessage\u001B[0m\u001B[0;34m,\u001B[0m \u001B[0mscreen\u001B[0m\u001B[0;34m,\u001B[0m \u001B[0mstacktrace\u001B[0m\u001B[0;34m)\u001B[0m\u001B[0;34m\u001B[0m\u001B[0;34m\u001B[0m\u001B[0m\n\u001B[0m\u001B[1;32m    243\u001B[0m \u001B[0;34m\u001B[0m\u001B[0m\n\u001B[1;32m    244\u001B[0m     \u001B[0;32mdef\u001B[0m \u001B[0m_value_or_default\u001B[0m\u001B[0;34m(\u001B[0m\u001B[0mself\u001B[0m\u001B[0;34m,\u001B[0m \u001B[0mobj\u001B[0m\u001B[0;34m,\u001B[0m \u001B[0mkey\u001B[0m\u001B[0;34m,\u001B[0m \u001B[0mdefault\u001B[0m\u001B[0;34m)\u001B[0m\u001B[0;34m:\u001B[0m\u001B[0;34m\u001B[0m\u001B[0;34m\u001B[0m\u001B[0m\n",
      "\u001B[0;31mInvalidSessionIdException\u001B[0m: Message: Tried to run command without establishing a connection\n"
     ]
    }
   ],
   "source": [
    "for driver in drivers:\n",
    "    driver.close()"
   ]
  }
 ],
 "metadata": {
  "kernelspec": {
   "display_name": "Python 3",
   "language": "python",
   "name": "python3"
  },
  "language_info": {
   "codemirror_mode": {
    "name": "ipython",
    "version": 3
   },
   "file_extension": ".py",
   "mimetype": "text/x-python",
   "name": "python",
   "nbconvert_exporter": "python",
   "pygments_lexer": "ipython3",
   "version": "3.8.2"
  }
 },
 "nbformat": 4,
 "nbformat_minor": 4
}