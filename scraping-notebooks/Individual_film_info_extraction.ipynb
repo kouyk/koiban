{
 "cells": [
  {
   "cell_type": "code",
   "execution_count": 1,
   "metadata": {
    "ExecuteTime": {
     "end_time": "2020-09-10T06:43:39.199789Z",
     "start_time": "2020-09-10T06:43:39.089655Z"
    }
   },
   "outputs": [],
   "source": [
    "import time\n",
    "import pickle\n",
    "import random\n",
    "\n",
    "from selenium import webdriver\n",
    "from selenium.webdriver.support.ui import WebDriverWait\n",
    "from selenium.common.exceptions import NoSuchElementException, ElementNotInteractableException, ElementClickInterceptedException\n",
    "from tqdm.auto import tqdm\n",
    "from fake_useragent import UserAgent"
   ]
  },
  {
   "cell_type": "code",
   "execution_count": 28,
   "metadata": {
    "ExecuteTime": {
     "end_time": "2020-09-10T07:03:02.033234Z",
     "start_time": "2020-09-10T07:03:00.546686Z"
    }
   },
   "outputs": [],
   "source": [
    "options = webdriver.ChromeOptions()\n",
    "# options.add_argument('--headless')\n",
    "# options.add_argument('--no-sandbox')\n",
    "# options.add_argument('--disable-dev-shm-usage')\n",
    "\n",
    "# ua = UserAgent()\n",
    "driver = webdriver.Chrome(options=options)\n",
    "# driver.implicitly_wait(15)"
   ]
  },
  {
   "cell_type": "code",
   "execution_count": 45,
   "metadata": {
    "ExecuteTime": {
     "end_time": "2020-09-10T07:12:24.116590Z",
     "start_time": "2020-09-10T07:12:24.107800Z"
    }
   },
   "outputs": [
    {
     "data": {
      "text/plain": [
       "'Mozilla/5.0 (Macintosh; Intel Mac OS X 10_8_2) AppleWebKit/537.17 (KHTML, like Gecko) Chrome/24.0.1309.0 Safari/537.17'"
      ]
     },
     "execution_count": 45,
     "metadata": {},
     "output_type": "execute_result"
    }
   ],
   "source": [
    "UserAgent().random"
   ]
  },
  {
   "cell_type": "code",
   "execution_count": 29,
   "metadata": {
    "ExecuteTime": {
     "end_time": "2020-09-10T07:03:06.854656Z",
     "start_time": "2020-09-10T07:03:06.843747Z"
    }
   },
   "outputs": [],
   "source": [
    "with open(\"animated_film_listing.pickle\", \"rb\") as file:\n",
    "    animated_film_listing = pickle.load(file)"
   ]
  },
  {
   "cell_type": "code",
   "execution_count": 30,
   "metadata": {
    "ExecuteTime": {
     "end_time": "2020-09-10T07:03:15.022524Z",
     "start_time": "2020-09-10T07:03:10.751227Z"
    }
   },
   "outputs": [],
   "source": [
    "driver.get(\"https://movie.douban.com/subject/1291585/\")"
   ]
  },
  {
   "cell_type": "code",
   "execution_count": 19,
   "metadata": {
    "ExecuteTime": {
     "end_time": "2020-09-10T07:01:51.109761Z",
     "start_time": "2020-09-10T07:01:51.099279Z"
    }
   },
   "outputs": [
    {
     "data": {
      "text/plain": [
       "{}"
      ]
     },
     "execution_count": 19,
     "metadata": {},
     "output_type": "execute_result"
    }
   ],
   "source": [
    "driver.execute_cdp_cmd('Network.setUserAgentOverride', {\"userAgent\": ua.random})"
   ]
  },
  {
   "cell_type": "code",
   "execution_count": 38,
   "metadata": {
    "ExecuteTime": {
     "end_time": "2020-09-10T07:10:41.787570Z",
     "start_time": "2020-09-10T07:10:41.590571Z"
    }
   },
   "outputs": [
    {
     "name": "stdout",
     "output_type": "stream",
     "text": [
      "亂馬2/1\n",
      "蕊蕊\n",
      "有心打扰\n",
      "同志亦凡人中文站\n",
      "爱幻想的小孩\n"
     ]
    }
   ],
   "source": [
    "comments_section = driver.find_element_by_id(\"hot-comments\")\n",
    "for item in comments_section.find_elements_by_class_name(\"comment-item\"):\n",
    "    print(item.find_element_by_xpath(\"div[@class=\\\"comment\\\"]/h3/span[@class=\\\"comment-info\\\"]/a\").text)"
   ]
  },
  {
   "cell_type": "code",
   "execution_count": 22,
   "metadata": {
    "ExecuteTime": {
     "end_time": "2020-09-10T07:02:03.690367Z",
     "start_time": "2020-09-10T07:02:03.635022Z"
    }
   },
   "outputs": [
    {
     "data": {
      "text/plain": [
       "'亂馬2/1'"
      ]
     },
     "execution_count": 22,
     "metadata": {},
     "output_type": "execute_result"
    }
   ],
   "source": [
    "comments_section.find_elements_by_class_name(\"comment-item\")[0].find_element_by_xpath(\"//span[@class=\\\"comment-info\\\"]/a\").text"
   ]
  },
  {
   "cell_type": "code",
   "execution_count": 27,
   "metadata": {
    "ExecuteTime": {
     "end_time": "2020-09-10T07:02:54.302217Z",
     "start_time": "2020-09-10T07:02:54.188138Z"
    }
   },
   "outputs": [],
   "source": [
    "driver.close()"
   ]
  },
  {
   "cell_type": "code",
   "execution_count": null,
   "metadata": {},
   "outputs": [],
   "source": [
    "start_idx = 0\n",
    "end_idx = 2000"
   ]
  },
  {
   "cell_type": "code",
   "execution_count": null,
   "metadata": {},
   "outputs": [],
   "source": [
    "for film in tqdm(animated_film_listing[start_idx:end_idx]):\n",
    "    driver.execute_cdp_cmd('Network.setUserAgentOverride', {\"userAgent\": ua.random})\n",
    "    driver.get(film['page_link'])\n",
    "    \n",
    "    # fetch all info in plain text\n",
    "    try:\n",
    "        film_info = driver.find_element_by_id(\"info\")\n",
    "    except NoSuchElementException:\n",
    "        print(driver.current_url)\n",
    "        break\n",
    "    info_dict = dict([line.split(\": \", 1) for line in film_info.text.split(\"\\n\")])\n",
    "    film.update(info_dict)\n",
    "    film['全名'] = driver.find_element_by_css_selector(\"span[property='v:itemreviewed']\").text\n",
    "\n",
    "    try:\n",
    "        film['年份'] = driver.find_element_by_class_name(\"year\").text\n",
    "        film['剧情简介'] = driver.find_element_by_css_selector(\"span[property='v:summary']\").text\n",
    "    except NoSuchElementException:\n",
    "        pass\n",
    "    \n",
    "    \n",
    "    # expand actors list\n",
    "    try:\n",
    "        film_info.find_element_by_class_name(\"more-actor\").click()\n",
    "    except:\n",
    "        pass\n",
    "    \n",
    "    casts = []\n",
    "    for actor in film_info.find_elements_by_css_selector(\"a[rel='v:starring']\")[:10]:\n",
    "        name = actor.text\n",
    "        page_link = actor.get_attribute(\"href\")\n",
    "        casts.append({'name': name, 'page_link': page_link})\n",
    "        \n",
    "    film['主演'] = casts\n",
    "    \n",
    "    reviews = []\n",
    "    try:\n",
    "        comments_section = driver.find_element_by_id(\"hot-comments\")\n",
    "        for item in comments_section.find_elements_by_class_name(\"comment-item\"):\n",
    "            review = {}\n",
    "            review['id'] = item.get_attribute(\"data-cid\")\n",
    "            review['user'] = item.find_element_by_xpath(\"div[@class=\\\"comment\\\"]/h3/span[@class=\\\"comment-info\\\"]/a\").text\n",
    "            review['time'] = item.find_element_by_class_name(\"comment-time\").text\n",
    "            review['text'] = item.find_element_by_class_name(\"short\").text\n",
    "            \n",
    "            reviews.append(review)\n",
    "    except NoSuchElementException:\n",
    "        pass\n",
    "        \n",
    "    film['影评'] = reviews\n",
    "    driver.delete_all_cookies()"
   ]
  },
  {
   "cell_type": "code",
   "execution_count": null,
   "metadata": {},
   "outputs": [],
   "source": [
    "with open(\"animated_film_info_{}-{}.pickle\".format(start_idx, end_idx-1), \"wb\") as file:\n",
    "    pickle.dump(animated_film_listing[start_idx:end_idx], file)"
   ]
  }
 ],
 "metadata": {
  "kernelspec": {
   "display_name": "Python 3",
   "language": "python",
   "name": "python3"
  },
  "language_info": {
   "codemirror_mode": {
    "name": "ipython",
    "version": 3
   },
   "file_extension": ".py",
   "mimetype": "text/x-python",
   "name": "python",
   "nbconvert_exporter": "python",
   "pygments_lexer": "ipython3",
   "version": "3.8.2"
  }
 },
 "nbformat": 4,
 "nbformat_minor": 4
}
