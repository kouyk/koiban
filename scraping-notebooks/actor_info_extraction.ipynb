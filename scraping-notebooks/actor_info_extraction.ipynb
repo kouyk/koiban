{
 "cells": [
  {
   "cell_type": "code",
   "execution_count": 1,
   "metadata": {
    "ExecuteTime": {
     "end_time": "2020-09-10T16:20:06.151253Z",
     "start_time": "2020-09-10T16:20:05.980665Z"
    },
    "run_control": {
     "marked": false
    }
   },
   "outputs": [],
   "source": [
    "import pickle\n",
    "from random import uniform\n",
    "from time import sleep, time\n",
    "\n",
    "from selenium import webdriver\n",
    "from selenium.webdriver.support.ui import WebDriverWait\n",
    "from selenium.common.exceptions import NoSuchElementException, ElementNotInteractableException, ElementClickInterceptedException\n",
    "from tqdm.auto import tqdm\n",
    "from fake_useragent import UserAgent"
   ]
  },
  {
   "cell_type": "code",
   "execution_count": 2,
   "metadata": {
    "ExecuteTime": {
     "end_time": "2020-09-10T16:20:11.621693Z",
     "start_time": "2020-09-10T16:20:10.034691Z"
    }
   },
   "outputs": [],
   "source": [
    "options = webdriver.ChromeOptions()\n",
    "# options.add_argument('--headless')\n",
    "# options.add_argument('--no-sandbox')\n",
    "# options.add_argument('--disable-dev-shm-usage')\n",
    "\n",
    "ua = UserAgent()\n",
    "driver = webdriver.Chrome(options=options)\n",
    "# driver.implicitly_wait(0)"
   ]
  },
  {
   "cell_type": "code",
   "execution_count": 3,
   "metadata": {
    "ExecuteTime": {
     "end_time": "2020-09-10T16:20:47.198179Z",
     "start_time": "2020-09-10T16:20:46.875479Z"
    }
   },
   "outputs": [],
   "source": [
    "with open(\"actor_dict.pickle\", \"rb\") as file:\n",
    "    actor_dict = pickle.load(file)"
   ]
  },
  {
   "cell_type": "code",
   "execution_count": 12,
   "metadata": {
    "ExecuteTime": {
     "end_time": "2020-09-09T04:32:56.742714Z",
     "start_time": "2020-09-09T02:30:31.983527Z"
    },
    "scrolled": true
   },
   "outputs": [
    {
     "data": {
      "application/vnd.jupyter.widget-view+json": {
       "model_id": "fe4f5ae4d2ac44b4879d0aa900e8b9c0",
       "version_major": 2,
       "version_minor": 0
      },
      "text/plain": [
       "HBox(children=(FloatProgress(value=0.0, max=5529.0), HTML(value='')))"
      ]
     },
     "metadata": {},
     "output_type": "display_data"
    },
    {
     "name": "stdout",
     "output_type": "stream",
     "text": [
      "https://sec.douban.com/b?r=https%3A%2F%2Fmovie.douban.com%2Fcelebrity%2F1151972%2F\n",
      "\n"
     ]
    }
   ],
   "source": [
    "for actor_id, info_dict in tqdm(actor_dict.items()):\n",
    "    if info_dict.get('全名') is not None or \"search\" in info_dict['page_link']:\n",
    "        continue\n",
    "\n",
    "    driver.execute_cdp_cmd('Network.setUserAgentOverride', {\"userAgent\": ua.random})\n",
    "    driver.get(info_dict['page_link'])\n",
    "    start_time = time()\n",
    "    \n",
    "    try:\n",
    "        # fetch all info in plain text\n",
    "        actor_info = driver.find_element_by_class_name(\"info\")\n",
    "        info_dict.update(dict([line.split(\": \", 1) for line in actor_info.text.split(\"\\n\")]))\n",
    "        info_dict['全名'] = driver.find_element_by_xpath(\"//div[@id=\\\"content\\\"]/h1\").text\n",
    "        info_dict['影人简介'] = driver.find_element_by_xpath(\"//div[@id='intro']/div[@class='bd']\").text\n",
    "        info_dict['photo'] = driver.find_element_by_xpath(\"//div[@id=\\\"headline\\\"]/div[@class='pic']/a/img\").get_attribute(\"src\")\n",
    "    except NoSuchElementException:\n",
    "        print(driver.current_url)\n",
    "        break\n",
    "        \n",
    "    driver.delete_all_cookies()\n",
    "    duration = time() - start_time\n",
    "    if duration < 10.0:\n",
    "        sleep(10.0 - duration)"
   ]
  },
  {
   "cell_type": "code",
   "execution_count": null,
   "metadata": {},
   "outputs": [],
   "source": [
    "with open(\"actor_info_{}-{}.pickle\", \"wb\") as file:\n",
    "    pickle.dump(actor_dict[start_idx:end_idx], file)"
   ]
  },
  {
   "cell_type": "code",
   "execution_count": 6,
   "metadata": {
    "ExecuteTime": {
     "end_time": "2020-09-08T17:26:11.448425Z",
     "start_time": "2020-09-08T17:26:11.386053Z"
    }
   },
   "outputs": [],
   "source": [
    "driver.close()"
   ]
  }
 ],
 "metadata": {
  "kernelspec": {
   "display_name": "Python 3",
   "language": "python",
   "name": "python3"
  },
  "language_info": {
   "codemirror_mode": {
    "name": "ipython",
    "version": 3
   },
   "file_extension": ".py",
   "mimetype": "text/x-python",
   "name": "python",
   "nbconvert_exporter": "python",
   "pygments_lexer": "ipython3",
   "version": "3.8.2"
  }
 },
 "nbformat": 4,
 "nbformat_minor": 4
}
